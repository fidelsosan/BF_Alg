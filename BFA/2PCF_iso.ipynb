{
 "cells": [
  {
   "cell_type": "markdown",
   "metadata": {},
   "source": [
    "# Define Parameters."
   ]
  },
  {
   "cell_type": "code",
   "execution_count": 69,
   "metadata": {},
   "outputs": [
    {
     "name": "stdout",
     "output_type": "stream",
     "text": [
      "[   3.    9.   15.   21.   27.   33.   39.   45.   51.   57.   63.   69.\n",
      "   75.   81.   87.   93.   99.  105.  111.  117.  123.  129.  135.  141.\n",
      "  147.  153.  159.  165.  171.  177.]\n"
     ]
    }
   ],
   "source": [
    "import matplotlib.pyplot as plt\n",
    "import matplotlib.legend \n",
    "import numpy as np\n",
    "import random\n",
    "import matplotlib.pyplot as plt\n",
    "import matplotlib.pyplot as plt\n",
    "import matplotlib.legend \n",
    "import numpy as np\n",
    "import random\n",
    "from mpl_toolkits.mplot3d import Axes3D\n",
    "import numpy as np\n",
    "import random\n",
    "import matplotlib.pyplot as plt\n",
    "from timeit import default_timer as timer\n",
    "from numpy.polynomial import Polynomial, Legendre\n",
    "from matplotlib.colors import Normalize\n",
    "from mpl_toolkits.axes_grid1 import ImageGrid\n",
    "cmap=plt.get_cmap('RdBu')\n",
    "class MidpointNormalize(Normalize):\n",
    "    def __init__(self, vmin=None, vmax=None, midpoint=None, clip=False):\n",
    "        self.midpoint = midpoint\n",
    "        Normalize.__init__(self, vmin, vmax, clip)\n",
    "    def __call__(self, value, clip=None):\n",
    "        x, y = [self.vmin, self.midpoint, self.vmax], [0, 0.5, 1]\n",
    "        return np.ma.masked_array(np.interp(value, x, y))\n",
    "norm = MidpointNormalize(midpoint=0)\n",
    "\n",
    "d_max=180\n",
    "nb=30\n",
    "\n",
    "\n",
    "#Creando histograma y su archivo de Posiciones\n",
    "x=[]\n",
    "DD=[]\n",
    "DR=[]\n",
    "RR=[]\n",
    "for i in range(nb):\n",
    "    x.append((i+1/2)*d_max/nb)\n",
    "    DD.append(0)\n",
    "    DR.append(0)\n",
    "    RR.append(0)\n",
    "x=np.array(x)\n",
    "print(x)"
   ]
  },
  {
   "cell_type": "code",
   "execution_count": 89,
   "metadata": {},
   "outputs": [
    {
     "data": {
      "text/plain": [
       "True"
      ]
     },
     "execution_count": 89,
     "metadata": {},
     "output_type": "execute_result"
    }
   ],
   "source": [
    "#Importando datos\n",
    "data=np.loadtxt('data_r.dat')\n",
    "rand=np.loadtxt('rand0_r.dat')\n",
    "N=len(data)\n",
    "len(data)==len(rand)"
   ]
  },
  {
   "cell_type": "code",
   "execution_count": 71,
   "metadata": {},
   "outputs": [],
   "source": [
    "#Definicion de una funcion para calcular la distancia entre dos puntos\n",
    "def dist(a,b):\n",
    "    return np.sqrt((a[0]-b[0])**2+(a[1]-b[1])**2+(a[2]-b[2])**2)\n"
   ]
  },
  {
   "cell_type": "code",
   "execution_count": 72,
   "metadata": {},
   "outputs": [
    {
     "name": "stdout",
     "output_type": "stream",
     "text": [
      "0\n",
      "100\n",
      "200\n",
      "300\n",
      "400\n",
      "500\n",
      "600\n",
      "700\n",
      "800\n",
      "900\n",
      "1000\n",
      "1100\n",
      "1200\n",
      "1300\n",
      "1400\n",
      "1500\n",
      "1600\n",
      "1700\n",
      "1800\n",
      "1900\n",
      "2000\n",
      "2100\n",
      "2200\n",
      "2300\n",
      "2400\n",
      "2500\n",
      "2600\n",
      "2700\n",
      "2800\n",
      "2900\n",
      "3000\n",
      "3100\n",
      "3200\n",
      "3300\n",
      "3400\n",
      "3500\n",
      "3600\n",
      "3700\n",
      "3800\n",
      "3900\n",
      "4000\n",
      "4100\n",
      "4200\n",
      "4300\n",
      "4400\n",
      "4500\n",
      "4600\n",
      "4700\n",
      "4800\n",
      "4900\n",
      "5000\n",
      "5100\n",
      "5200\n",
      "5300\n",
      "5400\n",
      "5500\n",
      "5600\n",
      "5700\n",
      "5800\n",
      "5900\n",
      "6000\n",
      "6100\n",
      "6200\n",
      "6300\n",
      "6400\n",
      "6500\n",
      "6600\n",
      "6700\n",
      "6800\n",
      "6900\n",
      "7000\n",
      "7100\n",
      "7200\n",
      "7300\n",
      "7400\n",
      "7500\n",
      "7600\n",
      "7700\n",
      "7800\n",
      "7900\n",
      "8000\n",
      "8100\n",
      "8200\n",
      "8300\n",
      "8400\n",
      "8500\n",
      "8600\n",
      "8700\n",
      "8800\n",
      "8900\n",
      "9000\n",
      "9100\n",
      "9200\n",
      "9300\n",
      "9400\n",
      "9500\n",
      "9600\n",
      "9700\n",
      "9800\n",
      "9900\n",
      "532.0095858429995\n",
      "0\n",
      "100\n",
      "200\n",
      "300\n",
      "400\n",
      "500\n",
      "600\n",
      "700\n",
      "800\n",
      "900\n",
      "1000\n",
      "1100\n",
      "1200\n",
      "1300\n",
      "1400\n",
      "1500\n",
      "1600\n",
      "1700\n",
      "1800\n",
      "1900\n",
      "2000\n",
      "2100\n",
      "2200\n",
      "2300\n",
      "2400\n",
      "2500\n",
      "2600\n",
      "2700\n",
      "2800\n",
      "2900\n",
      "3000\n",
      "3100\n",
      "3200\n",
      "3300\n",
      "3400\n",
      "3500\n",
      "3600\n",
      "3700\n",
      "3800\n",
      "3900\n",
      "4000\n",
      "4100\n",
      "4200\n",
      "4300\n",
      "4400\n",
      "4500\n",
      "4600\n",
      "4700\n",
      "4800\n",
      "4900\n",
      "5000\n",
      "5100\n",
      "5200\n",
      "5300\n",
      "5400\n",
      "5500\n",
      "5600\n",
      "5700\n",
      "5800\n",
      "5900\n",
      "6000\n",
      "6100\n",
      "6200\n",
      "6300\n",
      "6400\n",
      "6500\n",
      "6600\n",
      "6700\n",
      "6800\n",
      "6900\n",
      "7000\n",
      "7100\n",
      "7200\n",
      "7300\n",
      "7400\n",
      "7500\n",
      "7600\n",
      "7700\n",
      "7800\n",
      "7900\n",
      "8000\n",
      "8100\n",
      "8200\n",
      "8300\n",
      "8400\n",
      "8500\n",
      "8600\n",
      "8700\n",
      "8800\n",
      "8900\n",
      "9000\n",
      "9100\n",
      "9200\n",
      "9300\n",
      "9400\n",
      "9500\n",
      "9600\n",
      "9700\n",
      "9800\n",
      "9900\n",
      "524.391166810994\n"
     ]
    }
   ],
   "source": [
    "start=timer()\n",
    "for i in range(N-1):\n",
    "    if int(i/100)==i/100:\n",
    "        print(i)\n",
    "    for j in range(i,N):\n",
    "        d_d=dist(data[i],data[j])\n",
    "        d_r=dist(rand[i],rand[j])\n",
    "        if d_d<d_max:\n",
    "            DD[int(d_d*nb/d_max)]+=2\n",
    "        if d_r<d_max:\n",
    "            RR[int(d_r*nb/d_max)]+=2         \n",
    "end=timer()\n",
    "print(end-start)\n",
    "\n",
    "\n",
    "start=timer()\n",
    "for i in range(N):\n",
    "    if int(i/100)==i/100:\n",
    "        print(i)\n",
    "    for j in range(N):\n",
    "        d=dist(data[i],rand[j])\n",
    "        if d<d_max:\n",
    "            DR[int(d*nb/d_max)]+=1\n",
    "end=timer()\n",
    "print(end-start)\n",
    "            \n",
    "        "
   ]
  },
  {
   "cell_type": "code",
   "execution_count": 96,
   "metadata": {},
   "outputs": [
    {
     "data": {
      "text/plain": [
       "9.703703703703704"
      ]
     },
     "execution_count": 96,
     "metadata": {},
     "output_type": "execute_result"
    }
   ],
   "source": [
    "524*1600/3600./24"
   ]
  },
  {
   "cell_type": "code",
   "execution_count": null,
   "metadata": {
    "collapsed": true
   },
   "outputs": [],
   "source": [
    "start=timer()\n",
    "for i in range(N):\n",
    "    if int(i/100)==i/100:\n",
    "        print(i)\n",
    "    for j in range(N):\n",
    "        d_d=dist(data[i],data[j])\n",
    "        d_r=dist(rand[i],rand[j])\n",
    "        d=dist(data[i],rand[j])\n",
    "        if d<d_max:\n",
    "            DR[int(d*nb/d_max)]+=1\n",
    "end=timer()\n",
    "print(end-start)"
   ]
  },
  {
   "cell_type": "code",
   "execution_count": null,
   "metadata": {
    "collapsed": true
   },
   "outputs": [],
   "source": []
  },
  {
   "cell_type": "code",
   "execution_count": null,
   "metadata": {
    "collapsed": true
   },
   "outputs": [],
   "source": []
  },
  {
   "cell_type": "code",
   "execution_count": null,
   "metadata": {
    "collapsed": true
   },
   "outputs": [],
   "source": []
  },
  {
   "cell_type": "code",
   "execution_count": 85,
   "metadata": {},
   "outputs": [],
   "source": [
    "DD=np.array(DD)\n",
    "DR=np.array(DR)\n",
    "RR=np.array(RR)\n",
    "#Construccion del estimador\n",
    "LS=(DD-2*DR+RR)/RR\n",
    "HAM=DD*RR/DR**2-1"
   ]
  },
  {
   "cell_type": "code",
   "execution_count": null,
   "metadata": {
    "collapsed": true
   },
   "outputs": [],
   "source": []
  },
  {
   "cell_type": "code",
   "execution_count": null,
   "metadata": {
    "collapsed": true
   },
   "outputs": [],
   "source": []
  },
  {
   "cell_type": "code",
   "execution_count": null,
   "metadata": {
    "collapsed": true
   },
   "outputs": [],
   "source": []
  },
  {
   "cell_type": "code",
   "execution_count": 86,
   "metadata": {},
   "outputs": [
    {
     "data": {
      "image/png": "[encoded data removed]",
      "text/plain": [
       "<matplotlib.figure.Figure at 0x7faad73ebb70>"
      ]
     },
     "metadata": {},
     "output_type": "display_data"
    }
   ],
   "source": [
    "fig = matplotlib.pyplot.gcf()\n",
    "plt.plot(x,LS,linestyle='-',color='r',marker='d',label='LS')\n",
    "plt.plot(x,HAM,linestyle='-',color='b',marker='v',label='HAM')\n",
    "plt.xlabel('r(MPc)')\n",
    "plt.ylabel('xi(r)')\n",
    "fig.set_size_inches(14,8)\n",
    "#plt.xlim(0,len(lista_PH))#len(lista_LS))\n",
    "#plt.ylim(-k,k)\n",
    "plt.legend()\n",
    "#plt.savefig('/Users/fsosa/Desktop/models1.png',bbox_inches='tight')\n",
    "plt.show() "
   ]
  },
  {
   "cell_type": "code",
   "execution_count": null,
   "metadata": {
    "collapsed": true
   },
   "outputs": [],
   "source": []
  },
  {
   "cell_type": "code",
   "execution_count": 92,
   "metadata": {},
   "outputs": [
    {
     "data": {
      "image/png": "[encoded data removed]",
      "text/plain": [
       "<matplotlib.figure.Figure at 0x7faad75066a0>"
      ]
     },
     "metadata": {},
     "output_type": "display_data"
    }
   ],
   "source": [
    "fig = matplotlib.pyplot.gcf()\n",
    "plt.plot(x,LS,linestyle='-',color='r',marker='d',label='LS')\n",
    "plt.plot(x,HAM,linestyle='-',color='b',marker='v',label='HAM')\n",
    "\n",
    "plt.xlabel('r(MPc)')\n",
    "plt.ylabel('xi(r)')\n",
    "fig.set_size_inches(14,8)\n",
    "#plt.xlim(0,len(lista_PH))#len(lista_LS))\n",
    "plt.ylim(-.1,.1)\n",
    "plt.legend()\n",
    "#plt.savefig('/Users/fsosa/Desktop/models1.png',bbox_inches='tight')\n",
    "plt.show() "
   ]
  },
  {
   "cell_type": "code",
   "execution_count": null,
   "metadata": {
    "collapsed": true
   },
   "outputs": [],
   "source": []
  },
  {
   "cell_type": "code",
   "execution_count": 88,
   "metadata": {},
   "outputs": [
    {
     "data": {
      "image/png": "[encoded data removed]",
      "text/plain": [
       "<matplotlib.figure.Figure at 0x7faad7ff2dd8>"
      ]
     },
     "metadata": {},
     "output_type": "display_data"
    }
   ],
   "source": [
    "fig = matplotlib.pyplot.gcf()\n",
    "plt.plot(x,x**2*LS,linestyle='-',color='r',marker='d',label='LS')\n",
    "plt.plot(x,x**2*HAM,linestyle='-',color='b',marker='v',label='HAM')\n",
    "plt.xlabel('r(MPc)')\n",
    "plt.ylabel('xi(r)')\n",
    "fig.set_size_inches(14,8)\n",
    "#plt.xlim(0,len(lista_PH))#len(lista_LS))\n",
    "#plt.ylim(-k,k)\n",
    "plt.legend()\n",
    "#plt.savefig('/Users/fsosa/Desktop/models1.png',bbox_inches='tight')\n",
    "plt.show() "
   ]
  },
  {
   "cell_type": "code",
   "execution_count": null,
   "metadata": {
    "collapsed": true
   },
   "outputs": [],
   "source": []
  },
  {
   "cell_type": "code",
   "execution_count": null,
   "metadata": {
    "collapsed": true
   },
   "outputs": [],
   "source": []
  },
  {
   "cell_type": "code",
   "execution_count": null,
   "metadata": {
    "collapsed": true
   },
   "outputs": [],
   "source": []
  },
  {
   "cell_type": "code",
   "execution_count": null,
   "metadata": {
    "collapsed": true
   },
   "outputs": [],
   "source": []
  },
  {
   "cell_type": "code",
   "execution_count": null,
   "metadata": {
    "collapsed": true
   },
   "outputs": [],
   "source": [
    "# con d_max=60\n",
    "# 218. segundos con 10K puntos\n",
    "# 54. segundos con 5K puntos\n",
    "\n",
    "\n"
   ]
  }
 ],
 "metadata": {
  "anaconda-cloud": {},
  "kernelspec": {
   "display_name": "Python 3",
   "language": "python",
   "name": "python3"
  },
  "language_info": {
   "codemirror_mode": {
    "name": "ipython",
    "version": 3
   },
   "file_extension": ".py",
   "mimetype": "text/x-python",
   "name": "python",
   "nbconvert_exporter": "python",
   "pygments_lexer": "ipython3",
   "version": "3.6.1"
  }
 },
 "nbformat": 4,
 "nbformat_minor": 1
}
